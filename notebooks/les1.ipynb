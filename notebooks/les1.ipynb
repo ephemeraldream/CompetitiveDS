{
 "cells": [
  {
   "cell_type": "code",
   "execution_count": 1,
   "outputs": [],
   "source": [
    "import pandas as pd\n",
    "import matplotlib.pyplot as plt\n",
    "import seaborn as sns\n",
    "import xgboost as xgb\n",
    "import catboost as cb\n",
    "from sklearn.model_selection import train_test_split\n",
    "from sklearn.metrics import accuracy_score\n",
    "from sklearn.ensemble import RandomForestClassifier\n",
    "from sklearn.preprocessing import LabelEncoder\n",
    "from sklearn.model_selection import GridSearchCV\n",
    "from sklearn.model_selection import RandomizedSearchCV\n",
    "from scipy.stats import uniform, randint\n"
   ],
   "metadata": {
    "collapsed": false,
    "ExecuteTime": {
     "end_time": "2024-03-17T14:46:06.964839400Z",
     "start_time": "2024-03-17T14:46:06.613922Z"
    }
   },
   "id": "689ccd3bfc0a42e8"
  },
  {
   "cell_type": "code",
   "execution_count": 2,
   "id": "initial_id",
   "metadata": {
    "collapsed": true,
    "ExecuteTime": {
     "end_time": "2024-03-17T14:46:09.092177800Z",
     "start_time": "2024-03-17T14:46:06.964839400Z"
    }
   },
   "outputs": [
    {
     "data": {
      "text/plain": "   age  user_rating  user_rides  user_time_accident     user_id  sex  \\\n0   27          9.0         865                19.0  l17437965W    1   \n1   46          7.9        2116                11.0  Z12362316j    0   \n2   59          7.8         947                 4.0  g11098715c    0   \n3   37          7.0          18                 4.0  U12618125q    0   \n4   39          8.2         428                 7.0  A14375829B    0   \n\n  first_ride_date  \n0        2019-4-2  \n1      2021-11-19  \n2       2021-1-15  \n3      2019-11-20  \n4       2019-7-23  ",
      "text/html": "<div>\n<style scoped>\n    .dataframe tbody tr th:only-of-type {\n        vertical-align: middle;\n    }\n\n    .dataframe tbody tr th {\n        vertical-align: top;\n    }\n\n    .dataframe thead th {\n        text-align: right;\n    }\n</style>\n<table border=\"1\" class=\"dataframe\">\n  <thead>\n    <tr style=\"text-align: right;\">\n      <th></th>\n      <th>age</th>\n      <th>user_rating</th>\n      <th>user_rides</th>\n      <th>user_time_accident</th>\n      <th>user_id</th>\n      <th>sex</th>\n      <th>first_ride_date</th>\n    </tr>\n  </thead>\n  <tbody>\n    <tr>\n      <th>0</th>\n      <td>27</td>\n      <td>9.0</td>\n      <td>865</td>\n      <td>19.0</td>\n      <td>l17437965W</td>\n      <td>1</td>\n      <td>2019-4-2</td>\n    </tr>\n    <tr>\n      <th>1</th>\n      <td>46</td>\n      <td>7.9</td>\n      <td>2116</td>\n      <td>11.0</td>\n      <td>Z12362316j</td>\n      <td>0</td>\n      <td>2021-11-19</td>\n    </tr>\n    <tr>\n      <th>2</th>\n      <td>59</td>\n      <td>7.8</td>\n      <td>947</td>\n      <td>4.0</td>\n      <td>g11098715c</td>\n      <td>0</td>\n      <td>2021-1-15</td>\n    </tr>\n    <tr>\n      <th>3</th>\n      <td>37</td>\n      <td>7.0</td>\n      <td>18</td>\n      <td>4.0</td>\n      <td>U12618125q</td>\n      <td>0</td>\n      <td>2019-11-20</td>\n    </tr>\n    <tr>\n      <th>4</th>\n      <td>39</td>\n      <td>8.2</td>\n      <td>428</td>\n      <td>7.0</td>\n      <td>A14375829B</td>\n      <td>0</td>\n      <td>2019-7-23</td>\n    </tr>\n  </tbody>\n</table>\n</div>"
     },
     "execution_count": 2,
     "metadata": {},
     "output_type": "execute_result"
    }
   ],
   "source": [
    "url = 'https://raw.githubusercontent.com/a-milenkin/Competitive_Data_Science/main/data/driver_info.csv'\n",
    "drivers = pd.read_csv(url)  # driver_info - информация про водителей\n",
    "drivers.head()"
   ]
  },
  {
   "cell_type": "code",
   "execution_count": 3,
   "outputs": [
    {
     "name": "stdout",
     "output_type": "stream",
     "text": [
      "33.0\n",
      "5.8\n",
      "(15153, 7)\n",
      "sex\n",
      "0    7577\n",
      "1    7576\n",
      "Name: count, dtype: int64\n"
     ]
    },
    {
     "data": {
      "text/plain": "user_time_accident\n6.0     843\n3.0     794\n8.0     777\n4.0     760\n11.0    752\n       ... \n82.0      1\n85.0      1\n84.0      1\n80.0      1\n83.0      1\nName: count, Length: 84, dtype: int64"
     },
     "execution_count": 3,
     "metadata": {},
     "output_type": "execute_result"
    }
   ],
   "source": [
    "print(drivers['age'].median())\n",
    "print(drivers['user_rating'].min())\n",
    "print(drivers.shape)\n",
    "print(drivers['sex'].value_counts())\n",
    "drivers['user_time_accident'].value_counts()"
   ],
   "metadata": {
    "collapsed": false,
    "ExecuteTime": {
     "end_time": "2024-03-17T14:46:09.108046600Z",
     "start_time": "2024-03-17T14:46:09.090651900Z"
    }
   },
   "id": "ecff0bf1409948cb"
  },
  {
   "cell_type": "code",
   "execution_count": 4,
   "outputs": [],
   "source": [
    "df1 = pd.read_csv('https://stepik.org/media/attachments/lesson/681964/2.2.6_df1.csv', index_col=0)\n",
    "df2 = pd.read_csv('https://stepik.org/media/attachments/lesson/681964/2.2.6_df2.csv', index_col=0)"
   ],
   "metadata": {
    "collapsed": false,
    "ExecuteTime": {
     "end_time": "2024-03-17T14:46:13.484794300Z",
     "start_time": "2024-03-17T14:46:09.106013800Z"
    }
   },
   "id": "ec4a86f696a2c8f7"
  },
  {
   "cell_type": "code",
   "execution_count": 5,
   "outputs": [
    {
     "data": {
      "text/plain": "        user_id      car_id  rating  stop_times\n20   C27138482L  M-1786506l    7.42           2\n190  F10525768e  I98930031r    4.21           2\n248  s15596151o  u-2070489i    5.39           2",
      "text/html": "<div>\n<style scoped>\n    .dataframe tbody tr th:only-of-type {\n        vertical-align: middle;\n    }\n\n    .dataframe tbody tr th {\n        vertical-align: top;\n    }\n\n    .dataframe thead th {\n        text-align: right;\n    }\n</style>\n<table border=\"1\" class=\"dataframe\">\n  <thead>\n    <tr style=\"text-align: right;\">\n      <th></th>\n      <th>user_id</th>\n      <th>car_id</th>\n      <th>rating</th>\n      <th>stop_times</th>\n    </tr>\n  </thead>\n  <tbody>\n    <tr>\n      <th>20</th>\n      <td>C27138482L</td>\n      <td>M-1786506l</td>\n      <td>7.42</td>\n      <td>2</td>\n    </tr>\n    <tr>\n      <th>190</th>\n      <td>F10525768e</td>\n      <td>I98930031r</td>\n      <td>4.21</td>\n      <td>2</td>\n    </tr>\n    <tr>\n      <th>248</th>\n      <td>s15596151o</td>\n      <td>u-2070489i</td>\n      <td>5.39</td>\n      <td>2</td>\n    </tr>\n  </tbody>\n</table>\n</div>"
     },
     "execution_count": 5,
     "metadata": {},
     "output_type": "execute_result"
    }
   ],
   "source": [
    "df = pd.concat((df1,df2))\n",
    "df = df.query('rating > 4 & (stop_times == 2 | stop_times == 3 | stop_times == 5)')\n",
    "user_white_list = ['g10995906g', 'H90312511Q', 'C27138482L', 'H22518078t', 'n17438464n', 'F10525768e', 's15596151o', 'i18954748S', 'E84048392U', 'E69893354s']\n",
    "car_black_list = ['l-4285389z', 'n79502261g', 'N-1839822D']\n",
    "mask1 = df['user_id'].isin(user_white_list)\n",
    "mask2 = df['car_id'].isin(car_black_list)\n",
    "df = df[~mask2]\n",
    "df = df[mask1]\n",
    "result = df[df.index % 2 == 0]\n",
    "result"
   ],
   "metadata": {
    "collapsed": false,
    "ExecuteTime": {
     "end_time": "2024-03-17T14:46:13.514090800Z",
     "start_time": "2024-03-17T14:46:13.487136300Z"
    }
   },
   "id": "5ae1f38d80eec5f1"
  },
  {
   "cell_type": "code",
   "execution_count": 6,
   "outputs": [
    {
     "data": {
      "text/plain": "age                     22\nuser_rating             37\nuser_rides            1025\nuser_time_accident       5\nuser_id               2478\nsex                      2\nfirst_ride_date       1073\ndtype: int64"
     },
     "execution_count": 6,
     "metadata": {},
     "output_type": "execute_result"
    }
   ],
   "source": [
    "drivers.query('(user_time_accident > 4.5 & user_time_accident <= 9) & age < 40').nunique()"
   ],
   "metadata": {
    "collapsed": false,
    "ExecuteTime": {
     "end_time": "2024-03-17T14:46:13.540003400Z",
     "start_time": "2024-03-17T14:46:13.512580400Z"
    }
   },
   "id": "4ceedadbc6953544"
  },
  {
   "cell_type": "code",
   "execution_count": 7,
   "outputs": [
    {
     "data": {
      "text/plain": "(100, 5)"
     },
     "execution_count": 7,
     "metadata": {},
     "output_type": "execute_result"
    }
   ],
   "source": [
    "df = pd.read_csv('https://stepik.org/media/attachments/lesson/681964/2_2_8.csv')\n",
    "df.shape"
   ],
   "metadata": {
    "collapsed": false,
    "ExecuteTime": {
     "end_time": "2024-03-17T14:46:15.760498900Z",
     "start_time": "2024-03-17T14:46:13.530122700Z"
    }
   },
   "id": "c77ab51dc38ef9eb"
  },
  {
   "cell_type": "code",
   "execution_count": 8,
   "outputs": [],
   "source": [
    "df['tripple_accident'] = df['user_time_accident'] * 3\n",
    "df['rides_on_training'] = df['user_rides'] / df['user_rating']\n",
    "df1 = df.query('user_time_accident > 25')\n",
    "result = df1.query('age > @df1.age.mean()')\n",
    "\n"
   ],
   "metadata": {
    "collapsed": false,
    "ExecuteTime": {
     "end_time": "2024-03-17T14:46:15.763570100Z",
     "start_time": "2024-03-17T14:46:15.736913900Z"
    }
   },
   "id": "8d35873c5192ced1"
  },
  {
   "cell_type": "code",
   "execution_count": 9,
   "outputs": [
    {
     "data": {
      "text/plain": "       user_id  user_rating  age  user_rides  user_time_accident  \\\n3   E10711310m          8.4   33         322                39.0   \n64  t25217963K          8.0   30         101                72.0   \n\n    tripple_accident  rides_on_training  \n3              117.0          38.333333  \n64             216.0          12.625000  ",
      "text/html": "<div>\n<style scoped>\n    .dataframe tbody tr th:only-of-type {\n        vertical-align: middle;\n    }\n\n    .dataframe tbody tr th {\n        vertical-align: top;\n    }\n\n    .dataframe thead th {\n        text-align: right;\n    }\n</style>\n<table border=\"1\" class=\"dataframe\">\n  <thead>\n    <tr style=\"text-align: right;\">\n      <th></th>\n      <th>user_id</th>\n      <th>user_rating</th>\n      <th>age</th>\n      <th>user_rides</th>\n      <th>user_time_accident</th>\n      <th>tripple_accident</th>\n      <th>rides_on_training</th>\n    </tr>\n  </thead>\n  <tbody>\n    <tr>\n      <th>3</th>\n      <td>E10711310m</td>\n      <td>8.4</td>\n      <td>33</td>\n      <td>322</td>\n      <td>39.0</td>\n      <td>117.0</td>\n      <td>38.333333</td>\n    </tr>\n    <tr>\n      <th>64</th>\n      <td>t25217963K</td>\n      <td>8.0</td>\n      <td>30</td>\n      <td>101</td>\n      <td>72.0</td>\n      <td>216.0</td>\n      <td>12.625000</td>\n    </tr>\n  </tbody>\n</table>\n</div>"
     },
     "execution_count": 9,
     "metadata": {},
     "output_type": "execute_result"
    }
   ],
   "source": [
    "df['tripple_accident'] = df['user_time_accident'] * 3\n",
    "df['rides_on_training'] = df['user_rides'] / df['user_rating']\n",
    "df1 = df.query('user_time_accident > 25')\n",
    "result = df1.query('age > @df1.age.mean()')\n",
    "result"
   ],
   "metadata": {
    "collapsed": false,
    "ExecuteTime": {
     "end_time": "2024-03-17T14:46:15.838738Z",
     "start_time": "2024-03-17T14:46:15.755706200Z"
    }
   },
   "id": "95222b1b0b03ae07"
  },
  {
   "cell_type": "code",
   "execution_count": 10,
   "outputs": [
    {
     "name": "stdout",
     "output_type": "stream",
     "text": [
      "(46, 5)\n",
      "(46, 6)\n",
      "(45, 6)\n"
     ]
    },
    {
     "data": {
      "text/plain": "        car_id      worker_id     work_type  destroy_degree  \\\n45  j-1549044A             ZF        refuel             5.0   \n47  B18597537S             NR     reparking             1.0   \n48  H29930196K             NF        repair             5.0   \n49  p-2255017N             MN        repair             7.7   \n50  new_car_id  new_worker_id  refuel_check             3.5   \n\n    work_duration_square  efficient  \n45                  2209   0.106383  \n47                   676   0.038462  \n48                   225   0.333333  \n49                  1764   0.183333  \n50                   100   0.350000  ",
      "text/html": "<div>\n<style scoped>\n    .dataframe tbody tr th:only-of-type {\n        vertical-align: middle;\n    }\n\n    .dataframe tbody tr th {\n        vertical-align: top;\n    }\n\n    .dataframe thead th {\n        text-align: right;\n    }\n</style>\n<table border=\"1\" class=\"dataframe\">\n  <thead>\n    <tr style=\"text-align: right;\">\n      <th></th>\n      <th>car_id</th>\n      <th>worker_id</th>\n      <th>work_type</th>\n      <th>destroy_degree</th>\n      <th>work_duration_square</th>\n      <th>efficient</th>\n    </tr>\n  </thead>\n  <tbody>\n    <tr>\n      <th>45</th>\n      <td>j-1549044A</td>\n      <td>ZF</td>\n      <td>refuel</td>\n      <td>5.0</td>\n      <td>2209</td>\n      <td>0.106383</td>\n    </tr>\n    <tr>\n      <th>47</th>\n      <td>B18597537S</td>\n      <td>NR</td>\n      <td>reparking</td>\n      <td>1.0</td>\n      <td>676</td>\n      <td>0.038462</td>\n    </tr>\n    <tr>\n      <th>48</th>\n      <td>H29930196K</td>\n      <td>NF</td>\n      <td>repair</td>\n      <td>5.0</td>\n      <td>225</td>\n      <td>0.333333</td>\n    </tr>\n    <tr>\n      <th>49</th>\n      <td>p-2255017N</td>\n      <td>MN</td>\n      <td>repair</td>\n      <td>7.7</td>\n      <td>1764</td>\n      <td>0.183333</td>\n    </tr>\n    <tr>\n      <th>50</th>\n      <td>new_car_id</td>\n      <td>new_worker_id</td>\n      <td>refuel_check</td>\n      <td>3.5</td>\n      <td>100</td>\n      <td>0.350000</td>\n    </tr>\n  </tbody>\n</table>\n</div>"
     },
     "execution_count": 10,
     "metadata": {},
     "output_type": "execute_result"
    }
   ],
   "source": [
    "df = pd.read_csv('https://stepik.org/media/attachments/lesson/681964/2_2_10.csv')\n",
    "new_index = 50\n",
    "new_data = ['new_car_id', 'new_worker_id', '2019-11-11 4:44','refuel_check', 3.5, 10]\n",
    "del_index_list = [41, 18, 33, 7, 46]\n",
    "index = 22\n",
    "df.drop(del_index_list, axis=0, inplace=True)\n",
    "df.loc[new_index,:] = new_data\n",
    "df.loc[index,['destroy_degree']] += 1\n",
    "df.drop('fix_date', axis=1, inplace=True)\n",
    "print(df.shape)\n",
    "df['efficient'] = df['destroy_degree'] / df['work_duration']\n",
    "df['work_duration'] = df['work_duration']**2\n",
    "df.rename(columns={'work_duration': 'work_duration_square'}, inplace=True)\n",
    "print(df.shape)\n",
    "df.drop_duplicates(subset='car_id', inplace=True)\n",
    "print(df.shape)\n",
    "df['work_duration_square'] = df['work_duration_square'].astype('int64')\n",
    "df.tail()"
   ],
   "metadata": {
    "collapsed": false,
    "ExecuteTime": {
     "end_time": "2024-03-17T14:46:18.265668800Z",
     "start_time": "2024-03-17T14:46:15.777083100Z"
    }
   },
   "id": "150564adae37d1bc"
  },
  {
   "cell_type": "code",
   "execution_count": 33,
   "outputs": [
    {
     "data": {
      "text/plain": "           model  car_type      car_id  car_rating  year_to_start  \\\n4    Mini Cooper  business  i-4390733F        4.96           2012   \n295  Mini Cooper  business  b34607341j        4.04           2011   \n\n     year_to_work  riders fuel_type  \n4            2018    1007    petrol  \n295          2018    2740    petrol  ",
      "text/html": "<div>\n<style scoped>\n    .dataframe tbody tr th:only-of-type {\n        vertical-align: middle;\n    }\n\n    .dataframe tbody tr th {\n        vertical-align: top;\n    }\n\n    .dataframe thead th {\n        text-align: right;\n    }\n</style>\n<table border=\"1\" class=\"dataframe\">\n  <thead>\n    <tr style=\"text-align: right;\">\n      <th></th>\n      <th>model</th>\n      <th>car_type</th>\n      <th>car_id</th>\n      <th>car_rating</th>\n      <th>year_to_start</th>\n      <th>year_to_work</th>\n      <th>riders</th>\n      <th>fuel_type</th>\n    </tr>\n  </thead>\n  <tbody>\n    <tr>\n      <th>4</th>\n      <td>Mini Cooper</td>\n      <td>business</td>\n      <td>i-4390733F</td>\n      <td>4.96</td>\n      <td>2012</td>\n      <td>2018</td>\n      <td>1007</td>\n      <td>petrol</td>\n    </tr>\n    <tr>\n      <th>295</th>\n      <td>Mini Cooper</td>\n      <td>business</td>\n      <td>b34607341j</td>\n      <td>4.04</td>\n      <td>2011</td>\n      <td>2018</td>\n      <td>2740</td>\n      <td>petrol</td>\n    </tr>\n  </tbody>\n</table>\n</div>"
     },
     "execution_count": 33,
     "metadata": {},
     "output_type": "execute_result"
    }
   ],
   "source": [
    "df = pd.read_csv('https://stepik.org/media/attachments/lesson/681964/2.2.11.csv')\n",
    "sort_by_list = ['car_rating', 'riders']\n",
    "cols2drop = ['random_name_1', 'target_reg', 'target_class', 'random_name_2']\n",
    "columns_order_list = ['model', 'car_type', 'car_id', 'car_rating', 'year_to_start', 'year_to_work', 'riders', 'fuel_type']\n",
    "critical_car_rating = 2\n",
    "df.sort_values(by=sort_by_list[0], inplace=True, ascending=False)\n",
    "new_drops = [i for i in cols2drop if i in df.columns]\n",
    "df.drop(new_drops, axis=1, inplace=True)\n",
    "df = df.reindex(columns=columns_order_list)\n",
    "df.query('car_rating >= @critical_car_rating',inplace=True)\n",
    "df.query('(riders <= 10000) & (car_type != \"standart\" & car_type != \"economy\")', inplace=True)\n",
    "df.head()"
   ],
   "metadata": {
    "collapsed": false,
    "ExecuteTime": {
     "end_time": "2024-03-17T15:14:38.285847900Z",
     "start_time": "2024-03-17T15:14:36.045865200Z"
    }
   },
   "id": "fbc96e631b854495"
  },
  {
   "cell_type": "code",
   "execution_count": 31,
   "outputs": [
    {
     "data": {
      "text/plain": "           model  car_type      car_id  car_rating  year_to_start  \\\n4    Mini Cooper  business  i-4390733F        4.96           2012   \n295  Mini Cooper  business  b34607341j        4.04           2011   \n\n     year_to_work  riders fuel_type  \n4            2018    1007    petrol  \n295          2018    2740    petrol  ",
      "text/html": "<div>\n<style scoped>\n    .dataframe tbody tr th:only-of-type {\n        vertical-align: middle;\n    }\n\n    .dataframe tbody tr th {\n        vertical-align: top;\n    }\n\n    .dataframe thead th {\n        text-align: right;\n    }\n</style>\n<table border=\"1\" class=\"dataframe\">\n  <thead>\n    <tr style=\"text-align: right;\">\n      <th></th>\n      <th>model</th>\n      <th>car_type</th>\n      <th>car_id</th>\n      <th>car_rating</th>\n      <th>year_to_start</th>\n      <th>year_to_work</th>\n      <th>riders</th>\n      <th>fuel_type</th>\n    </tr>\n  </thead>\n  <tbody>\n    <tr>\n      <th>4</th>\n      <td>Mini Cooper</td>\n      <td>business</td>\n      <td>i-4390733F</td>\n      <td>4.96</td>\n      <td>2012</td>\n      <td>2018</td>\n      <td>1007</td>\n      <td>petrol</td>\n    </tr>\n    <tr>\n      <th>295</th>\n      <td>Mini Cooper</td>\n      <td>business</td>\n      <td>b34607341j</td>\n      <td>4.04</td>\n      <td>2011</td>\n      <td>2018</td>\n      <td>2740</td>\n      <td>petrol</td>\n    </tr>\n  </tbody>\n</table>\n</div>"
     },
     "execution_count": 31,
     "metadata": {},
     "output_type": "execute_result"
    }
   ],
   "source": [
    "ans = pd.read_csv('https://stepik.org/media/attachments/lesson/681964/2_2_11_ans.csv', index_col=0)\n",
    "ans"
   ],
   "metadata": {
    "collapsed": false,
    "ExecuteTime": {
     "end_time": "2024-03-17T15:14:09.858783Z",
     "start_time": "2024-03-17T15:14:08.426584300Z"
    }
   },
   "id": "206b3e71a90c37c7"
  },
  {
   "cell_type": "code",
   "execution_count": 38,
   "outputs": [
    {
     "data": {
      "text/plain": "   Unnamed: 0      car_id           model        car_type  car_rating  \\\n0           0  o-1588203t      VW Polo VI   super_economy        5.04   \n1           1  B-1760099A  Renault Kaptur  super_standart        5.36   \n2           2  u-2045579o  Renault Kaptur  super_standart        6.94   \n3           3  V-4730687q       VW Tiguan   super_economy        5.10   \n4           4  K23027223e    Smart ForTwo   super_economy        4.82   \n\n   new_year_to_start  riders  year_to_work  target_reg     target_class  \n0               2014   61872          2018   46.175419     engine_check  \n1               2015   95768           404   30.585652  engine_overheat  \n2               2012   21114           404   68.091881  engine_ignition  \n3               2016   95799           403   39.808397        break_bug  \n4               2017  127971           404   37.024779      electro_bug  ",
      "text/html": "<div>\n<style scoped>\n    .dataframe tbody tr th:only-of-type {\n        vertical-align: middle;\n    }\n\n    .dataframe tbody tr th {\n        vertical-align: top;\n    }\n\n    .dataframe thead th {\n        text-align: right;\n    }\n</style>\n<table border=\"1\" class=\"dataframe\">\n  <thead>\n    <tr style=\"text-align: right;\">\n      <th></th>\n      <th>Unnamed: 0</th>\n      <th>car_id</th>\n      <th>model</th>\n      <th>car_type</th>\n      <th>car_rating</th>\n      <th>new_year_to_start</th>\n      <th>riders</th>\n      <th>year_to_work</th>\n      <th>target_reg</th>\n      <th>target_class</th>\n    </tr>\n  </thead>\n  <tbody>\n    <tr>\n      <th>0</th>\n      <td>0</td>\n      <td>o-1588203t</td>\n      <td>VW Polo VI</td>\n      <td>super_economy</td>\n      <td>5.04</td>\n      <td>2014</td>\n      <td>61872</td>\n      <td>2018</td>\n      <td>46.175419</td>\n      <td>engine_check</td>\n    </tr>\n    <tr>\n      <th>1</th>\n      <td>1</td>\n      <td>B-1760099A</td>\n      <td>Renault Kaptur</td>\n      <td>super_standart</td>\n      <td>5.36</td>\n      <td>2015</td>\n      <td>95768</td>\n      <td>404</td>\n      <td>30.585652</td>\n      <td>engine_overheat</td>\n    </tr>\n    <tr>\n      <th>2</th>\n      <td>2</td>\n      <td>u-2045579o</td>\n      <td>Renault Kaptur</td>\n      <td>super_standart</td>\n      <td>6.94</td>\n      <td>2012</td>\n      <td>21114</td>\n      <td>404</td>\n      <td>68.091881</td>\n      <td>engine_ignition</td>\n    </tr>\n    <tr>\n      <th>3</th>\n      <td>3</td>\n      <td>V-4730687q</td>\n      <td>VW Tiguan</td>\n      <td>super_economy</td>\n      <td>5.10</td>\n      <td>2016</td>\n      <td>95799</td>\n      <td>403</td>\n      <td>39.808397</td>\n      <td>break_bug</td>\n    </tr>\n    <tr>\n      <th>4</th>\n      <td>4</td>\n      <td>K23027223e</td>\n      <td>Smart ForTwo</td>\n      <td>super_economy</td>\n      <td>4.82</td>\n      <td>2017</td>\n      <td>127971</td>\n      <td>404</td>\n      <td>37.024779</td>\n      <td>electro_bug</td>\n    </tr>\n  </tbody>\n</table>\n</div>"
     },
     "execution_count": 38,
     "metadata": {},
     "output_type": "execute_result"
    }
   ],
   "source": [
    "import pandas as pd\n",
    "\n",
    "df = pd.read_csv('https://stepik.org/media/attachments/lesson/681964/2_2_12.csv')\n",
    "mean_rating = df['car_rating'].mean()\n",
    "df['car_rating'] += 1\n",
    "df['year_to_work'] += 1\n",
    "df.query('car_rating > @mean_rating', inplace=True)\n",
    "df['year_to_work'] = df['year_to_work'].apply(lambda x: x + 2 if x < 2017 else int(x/5))\n",
    "df.rename(columns={'year_to_start': 'new_year_to_start'},inplace=True)\n",
    "df.drop(columns=['fuel_type'],inplace=True)\n",
    "df['car_type'] = df['car_type'].apply(lambda x: 'super_' + str(x))\n",
    "result = df"
   ],
   "metadata": {
    "collapsed": false,
    "ExecuteTime": {
     "end_time": "2024-03-17T15:22:08.662511400Z",
     "start_time": "2024-03-17T15:22:06.529422700Z"
    }
   },
   "id": "558a57974f5b1ea7"
  },
  {
   "cell_type": "code",
   "execution_count": 39,
   "outputs": [],
   "source": [
    "df = pd.read_csv('https://stepik.org/media/attachments/lesson/681964/2_2_13.csv')\n",
    "\n",
    "cols2drop = ['ride_cost', 'stop_times', 'user_ride_quality']\n",
    "df['flag'] = df.apply(lambda x: 'good_line' if x['rating'] > 5 and x['speed_max'] < 100 else\n",
    "(\"bad_line\" if x['rating'] > 5 and x['speed_max'] > 100 else 'undefined'), axis=1)\n",
    "df['speed_check'] = df.apply(lambda x: 'avg_more' if x['distance'] / x['ride_duration'] > x['speed_avg'] else 'avg_less', axis=1)\n",
    "df.drop(columns=cols2drop, inplace=True)\n",
    "\n",
    "df.dropna(subset=['car_id'], inplace=True)\n",
    "\n",
    "result = df"
   ],
   "metadata": {
    "collapsed": false,
    "ExecuteTime": {
     "end_time": "2024-03-17T15:31:00.588230100Z",
     "start_time": "2024-03-17T15:30:59.445829Z"
    }
   },
   "id": "bf7cb0f57b7d66bb"
  }
 ],
 "metadata": {
  "kernelspec": {
   "display_name": "Python 3",
   "language": "python",
   "name": "python3"
  },
  "language_info": {
   "codemirror_mode": {
    "name": "ipython",
    "version": 2
   },
   "file_extension": ".py",
   "mimetype": "text/x-python",
   "name": "python",
   "nbconvert_exporter": "python",
   "pygments_lexer": "ipython2",
   "version": "2.7.6"
  }
 },
 "nbformat": 4,
 "nbformat_minor": 5
}
